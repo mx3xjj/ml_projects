{
 "cells": [
  {
   "cell_type": "markdown",
   "metadata": {},
   "source": [
    "## Recurrent Neural Networks ##\n",
    "\n",
    "Key highlights:\n",
    "\n",
    "* RNNs are like MLP with the ** addition of loops to the architecture.** \n",
    "* In a given layer, each neuron passes its signal both forward to the next layer and latterly(sideways)\n",
    "* The output of the network may feedback as an input to the network with the next input vector.\n",
    "* The recurrent connections add state/memory to the network and allow it to learn broader abstractions from the input sequences.\n",
    "* Vanilla Backpropagations fails in RNNs because of the recurrent loop connections.\n",
    "* To overcome this, the structure of the network is unrolled, where copies of the neurons that have recurrent connections are created. For example a single neuron with a connection to itself(`A->A`) is represented as two neurons with the same weight values(`A->B`).This allows the cyclic graph of an RNN to be turned into an ** ACYCLIC graph**  like a classic feedforward NN. This is called ** Back Propagation Through Time(BPTT) **.\n",
    "* It overcomes the ** exploding gradients ** and ** vanishing gradients ** problem by using the ** Rectifier transfer function (ReLu)**. Also by using the ** Long Short-Term Memory Networks **.\n",
    "\n",
    "## Long Short-Term Memory Networks ##\n",
    "\n",
    "* LSTMs are RNNs that have been trained through ** BPTT ** to overcome the exploding and vanishing gradient problem.\n",
    "* LSTMs create large stacked RNNs that are esssentially memory blocks connected into layers. \n",
    "* A block has gates that manage the input and the output.\n",
    "\n",
    "** Unit: **\n",
    "\n",
    "* A Unit operates on an input sequence and each gate within the unit uses the sigmoid activation function to control whether they are triggered or not.\n",
    "* ** Forget Gate **: conditionally decides what information to discard from the unit.\n",
    "* ** Input Gate **: conditionally decides which values from the input to use to update the memory.\n",
    "* ** Output Gate **: conditionally decides what to output based on the input and the memory.\n",
    "\n",
    "Each unit is mini state machine where the ** gates of the units have weights that are learned during the training. ** "
   ]
  },
  {
   "cell_type": "markdown",
   "metadata": {},
   "source": [
    "## Part 1: Using a single recent time step to make the prediction for the next time step  ##"
   ]
  },
  {
   "cell_type": "markdown",
   "metadata": {},
   "source": [
    "## Step 1: Load the dataset ##\n",
    "\n",
    "We will be using the dataset from https://datamarket.com/data/set/22u3/international-airline-passengers-monthly-totals-in-thousands-jan-49-dec-60#!ds=22u3&display=line\n",
    "\n",
    "* The data ranges from January 1949 to December 1960, 12 years with 144 observations."
   ]
  },
  {
   "cell_type": "code",
   "execution_count": 19,
   "metadata": {
    "collapsed": false
   },
   "outputs": [],
   "source": [
    "'''\n",
    "Imports and loading of dataset.\n",
    "\n",
    "The dates are in intervals of 1 month and are of the form '1949-01, 1949-02.....'\n",
    "\n",
    "We remove the date column.\n",
    "'''\n",
    "import numpy\n",
    "import matplotlib.pyplot as plt\n",
    "import pandas\n",
    "import math\n",
    "from keras.models import Sequential\n",
    "from keras.layers import Dense\n",
    "\n",
    "# fix random seed for reproducibility\n",
    "numpy.random.seed(7)\n",
    "\n",
    "# Load the dataset\n",
    "dataframe = pandas.read_csv('international-airline-passengers.csv', \n",
    "                            usecols=[1], \n",
    "                            engine='python', \n",
    "                            skipfooter=3)"
   ]
  },
  {
   "cell_type": "code",
   "execution_count": 20,
   "metadata": {
    "collapsed": false
   },
   "outputs": [
    {
     "data": {
      "text/html": [
       "<div>\n",
       "<table border=\"1\" class=\"dataframe\">\n",
       "  <thead>\n",
       "    <tr style=\"text-align: right;\">\n",
       "      <th></th>\n",
       "      <th>International airline passengers: monthly totals in thousands. Jan 49 ? Dec 60</th>\n",
       "    </tr>\n",
       "  </thead>\n",
       "  <tbody>\n",
       "    <tr>\n",
       "      <th>0</th>\n",
       "      <td>112</td>\n",
       "    </tr>\n",
       "    <tr>\n",
       "      <th>1</th>\n",
       "      <td>118</td>\n",
       "    </tr>\n",
       "    <tr>\n",
       "      <th>2</th>\n",
       "      <td>132</td>\n",
       "    </tr>\n",
       "    <tr>\n",
       "      <th>3</th>\n",
       "      <td>129</td>\n",
       "    </tr>\n",
       "    <tr>\n",
       "      <th>4</th>\n",
       "      <td>121</td>\n",
       "    </tr>\n",
       "  </tbody>\n",
       "</table>\n",
       "</div>"
      ],
      "text/plain": [
       "   International airline passengers: monthly totals in thousands. Jan 49 ? Dec 60\n",
       "0                                                112                             \n",
       "1                                                118                             \n",
       "2                                                132                             \n",
       "3                                                129                             \n",
       "4                                                121                             "
      ]
     },
     "execution_count": 20,
     "metadata": {},
     "output_type": "execute_result"
    }
   ],
   "source": [
    "'''\n",
    "Explore data\n",
    "'''\n",
    "dataframe.head()"
   ]
  },
  {
   "cell_type": "code",
   "execution_count": 21,
   "metadata": {
    "collapsed": false
   },
   "outputs": [
    {
     "name": "stdout",
     "output_type": "stream",
     "text": [
      "Populating the interactive namespace from numpy and matplotlib\n"
     ]
    },
    {
     "name": "stderr",
     "output_type": "stream",
     "text": [
      "WARNING: pylab import has clobbered these variables: ['test']\n",
      "`%matplotlib` prevents importing * from pylab and numpy\n"
     ]
    },
    {
     "data": {
      "image/png": "[encoded data removed]",
      "text/plain": [
       "<matplotlib.figure.Figure at 0x118e44790>"
      ]
     },
     "metadata": {},
     "output_type": "display_data"
    }
   ],
   "source": [
    "'''\n",
    "Plot the data\n",
    "'''\n",
    "%pylab inline\n",
    "plt.plot(dataframe)\n",
    "plt.show()"
   ]
  },
  {
   "cell_type": "markdown",
   "metadata": {},
   "source": [
    "## Step 2: Defining the objective ##\n",
    "\n",
    "* Regression problem: given the number of passengers this month, what is the number of passengers next month.\n",
    "* Convert the single column data to a two column dataset, with the first column having this months passenger count and the second column having next months predicted passenger count."
   ]
  },
  {
   "cell_type": "code",
   "execution_count": 22,
   "metadata": {
    "collapsed": true
   },
   "outputs": [],
   "source": [
    "'''\n",
    "Convert integer values to float values which are better to be fed in to the NN\n",
    "'''\n",
    "dataset = dataframe.values\n",
    "dataset = dataset.astype('float32')"
   ]
  },
  {
   "cell_type": "markdown",
   "metadata": {},
   "source": [
    "## Step 3: Splitting the dataset ##\n",
    "\n",
    "In time series data the order of the data is important. We will use the first 67% of the data as the training data and the next 33% as the testing data."
   ]
  },
  {
   "cell_type": "code",
   "execution_count": 46,
   "metadata": {
    "collapsed": false
   },
   "outputs": [
    {
     "name": "stdout",
     "output_type": "stream",
     "text": [
      "(96, 48)\n"
     ]
    }
   ],
   "source": [
    "'''\n",
    "Split into train and test sets\n",
    "'''\n",
    "# Training\n",
    "train_size = int(len(dataset) * 0.67)\n",
    "# Testing\n",
    "test_size = len(dataset) - train_size\n",
    "\n",
    "train, test = dataset[0:train_size , : ], dataset[train_size:len(dataset), : ]\n",
    "print(len(train), len(test))"
   ]
  },
  {
   "cell_type": "markdown",
   "metadata": {},
   "source": [
    "## Step 3: Function definition ##\n",
    "\n",
    "* Fxn takes two arguments: the dataset to convert formats, 'look_back' which is the number of previous time steps to use as input variables to predict the next time period.\n",
    "* Fxn will return: dataX - number of passengers at time 't', dataY - number of passengers at time 't+1'"
   ]
  },
  {
   "cell_type": "code",
   "execution_count": 47,
   "metadata": {
    "collapsed": true
   },
   "outputs": [],
   "source": [
    "'''\n",
    "Convert an array of values into a dataset matrix\n",
    "'''\n",
    "def create_dataset(dataset, look_back = 1):\n",
    "    # dataX: number of passengers at time 't'\n",
    "    # dataY: number of passengers at time 't+1'\n",
    "    dataX, dataY = [], []\n",
    "    for i in range(len(dataset) - look_back - 1):\n",
    "        a = dataset[i:(i+look_back), 0]\n",
    "        dataX.append(a)\n",
    "        dataY.append(dataset[i + look_back, 0])\n",
    "    return numpy.array(dataX), numpy.array(dataY)"
   ]
  },
  {
   "cell_type": "code",
   "execution_count": 48,
   "metadata": {
    "collapsed": false
   },
   "outputs": [
    {
     "data": {
      "text/plain": [
       "array([[ 112.],\n",
       "       [ 118.],\n",
       "       [ 132.],\n",
       "       [ 129.],\n",
       "       [ 121.]], dtype=float32)"
      ]
     },
     "execution_count": 48,
     "metadata": {},
     "output_type": "execute_result"
    }
   ],
   "source": [
    "test_set = dataset[:5]\n",
    "test_set"
   ]
  },
  {
   "cell_type": "code",
   "execution_count": 49,
   "metadata": {
    "collapsed": false
   },
   "outputs": [
    {
     "data": {
      "text/plain": [
       "(array([[ 112.],\n",
       "        [ 118.],\n",
       "        [ 132.]], dtype=float32), array([ 118.,  132.,  129.], dtype=float32))"
      ]
     },
     "execution_count": 49,
     "metadata": {},
     "output_type": "execute_result"
    }
   ],
   "source": [
    "create_dataset(test_set)"
   ]
  },
  {
   "cell_type": "code",
   "execution_count": 50,
   "metadata": {
    "collapsed": true
   },
   "outputs": [],
   "source": [
    "'''\n",
    "Reshape the dataset into a matrix using the helper function.\n",
    "'''\n",
    "# Reshape into X=t and Y=t+1\n",
    "look_back = 1\n",
    "\n",
    "# Training set\n",
    "trainX, trainY = create_dataset(train, look_back)\n",
    "\n",
    "# Testing set\n",
    "testX, testY = create_dataset(test, look_back)"
   ]
  },
  {
   "cell_type": "markdown",
   "metadata": {},
   "source": [
    "## Step 4: Model training ## \n",
    "\n",
    "* We use an MLP\n",
    "* 1 input, 1 hidden layer, 8 neurons and an output layer\n",
    "* Model is fit using the MSE"
   ]
  },
  {
   "cell_type": "code",
   "execution_count": 51,
   "metadata": {
    "collapsed": false
   },
   "outputs": [
    {
     "name": "stdout",
     "output_type": "stream",
     "text": [
      "Epoch 1/100\n",
      "94/94 [==============================] - 0s - loss: 56557.1020     \n",
      "Epoch 2/100\n",
      "94/94 [==============================] - 0s - loss: 37738.7025     \n",
      "Epoch 3/100\n",
      "94/94 [==============================] - 0s - loss: 24255.2062     \n",
      "Epoch 4/100\n",
      "94/94 [==============================] - 0s - loss: 14204.8346     \n",
      "Epoch 5/100\n",
      "94/94 [==============================] - 0s - loss: 7473.7043     \n",
      "Epoch 6/100\n",
      "94/94 [==============================] - 0s - loss: 3462.2078     \n",
      "Epoch 7/100\n",
      "94/94 [==============================] - 0s - loss: 1575.9895     \n",
      "Epoch 8/100\n",
      "94/94 [==============================] - 0s - loss: 838.0012     \n",
      "Epoch 9/100\n",
      "94/94 [==============================] - 0s - loss: 610.1101     \n",
      "Epoch 10/100\n",
      "94/94 [==============================] - 0s - loss: 550.2599     \n",
      "Epoch 11/100\n",
      "94/94 [==============================] - 0s - loss: 540.1689     \n",
      "Epoch 12/100\n",
      "94/94 [==============================] - 0s - loss: 538.2787     \n",
      "Epoch 13/100\n",
      "94/94 [==============================] - 0s - loss: 536.5759     \n",
      "Epoch 14/100\n",
      "94/94 [==============================] - 0s - loss: 537.4505     \n",
      "Epoch 15/100\n",
      "94/94 [==============================] - 0s - loss: 540.9329     \n",
      "Epoch 16/100\n",
      "94/94 [==============================] - 0s - loss: 538.9922     \n",
      "Epoch 17/100\n",
      "94/94 [==============================] - 0s - loss: 540.9463     \n",
      "Epoch 18/100\n",
      "94/94 [==============================] - 0s - loss: 542.3844     \n",
      "Epoch 19/100\n",
      "94/94 [==============================] - 0s - loss: 540.9174     \n",
      "Epoch 20/100\n",
      "94/94 [==============================] - 0s - loss: 545.0373     \n",
      "Epoch 21/100\n",
      "94/94 [==============================] - 0s - loss: 542.5319     \n",
      "Epoch 22/100\n",
      "94/94 [==============================] - 0s - loss: 538.5650     \n",
      "Epoch 23/100\n",
      "94/94 [==============================] - 0s - loss: 548.7179     \n",
      "Epoch 24/100\n",
      "94/94 [==============================] - 0s - loss: 544.2158     \n",
      "Epoch 25/100\n",
      "94/94 [==============================] - 0s - loss: 541.9161     \n",
      "Epoch 26/100\n",
      "94/94 [==============================] - 0s - loss: 538.6465     \n",
      "Epoch 27/100\n",
      "94/94 [==============================] - 0s - loss: 536.8466     \n",
      "Epoch 28/100\n",
      "94/94 [==============================] - 0s - loss: 543.1854     \n",
      "Epoch 29/100\n",
      "94/94 [==============================] - 0s - loss: 539.9865     \n",
      "Epoch 30/100\n",
      "94/94 [==============================] - 0s - loss: 538.3601     \n",
      "Epoch 31/100\n",
      "94/94 [==============================] - 0s - loss: 542.9859     \n",
      "Epoch 32/100\n",
      "94/94 [==============================] - 0s - loss: 544.1869     \n",
      "Epoch 33/100\n",
      "94/94 [==============================] - 0s - loss: 542.7429     \n",
      "Epoch 34/100\n",
      "94/94 [==============================] - 0s - loss: 539.5316     \n",
      "Epoch 35/100\n",
      "94/94 [==============================] - 0s - loss: 542.4132     \n",
      "Epoch 36/100\n",
      "94/94 [==============================] - 0s - loss: 546.3153     \n",
      "Epoch 37/100\n",
      "94/94 [==============================] - 0s - loss: 543.7542     \n",
      "Epoch 38/100\n",
      "94/94 [==============================] - 0s - loss: 539.8545     \n",
      "Epoch 39/100\n",
      "94/94 [==============================] - 0s - loss: 548.4321     \n",
      "Epoch 40/100\n",
      "94/94 [==============================] - 0s - loss: 547.1375     \n",
      "Epoch 41/100\n",
      "94/94 [==============================] - 0s - loss: 547.3940     \n",
      "Epoch 42/100\n",
      "94/94 [==============================] - 0s - loss: 554.2585     \n",
      "Epoch 43/100\n",
      "94/94 [==============================] - 0s - loss: 553.3545     \n",
      "Epoch 44/100\n",
      "94/94 [==============================] - 0s - loss: 543.1991     \n",
      "Epoch 45/100\n",
      "94/94 [==============================] - 0s - loss: 560.1941     \n",
      "Epoch 46/100\n",
      "94/94 [==============================] - 0s - loss: 543.9483     \n",
      "Epoch 47/100\n",
      "94/94 [==============================] - 0s - loss: 540.0057     \n",
      "Epoch 48/100\n",
      "94/94 [==============================] - 0s - loss: 540.6446     \n",
      "Epoch 49/100\n",
      "94/94 [==============================] - 0s - loss: 538.0968     \n",
      "Epoch 50/100\n",
      "94/94 [==============================] - 0s - loss: 549.4180     \n",
      "Epoch 51/100\n",
      "94/94 [==============================] - 0s - loss: 539.3315     \n",
      "Epoch 52/100\n",
      "94/94 [==============================] - 0s - loss: 539.5268     \n",
      "Epoch 53/100\n",
      "94/94 [==============================] - 0s - loss: 546.7321     \n",
      "Epoch 54/100\n",
      "94/94 [==============================] - 0s - loss: 541.3632     \n",
      "Epoch 55/100\n",
      "94/94 [==============================] - 0s - loss: 553.1492     \n",
      "Epoch 56/100\n",
      "94/94 [==============================] - 0s - loss: 551.5584     \n",
      "Epoch 57/100\n",
      "94/94 [==============================] - 0s - loss: 539.3703     \n",
      "Epoch 58/100\n",
      "94/94 [==============================] - 0s - loss: 543.1429     \n",
      "Epoch 59/100\n",
      "94/94 [==============================] - 0s - loss: 541.6093     \n",
      "Epoch 60/100\n",
      "94/94 [==============================] - 0s - loss: 537.8861     \n",
      "Epoch 61/100\n",
      "94/94 [==============================] - 0s - loss: 542.9475     \n",
      "Epoch 62/100\n",
      "94/94 [==============================] - 0s - loss: 548.1454     \n",
      "Epoch 63/100\n",
      "94/94 [==============================] - 0s - loss: 556.7646     \n",
      "Epoch 64/100\n",
      "94/94 [==============================] - 0s - loss: 548.6070     \n",
      "Epoch 65/100\n",
      "94/94 [==============================] - 0s - loss: 552.0242     \n",
      "Epoch 66/100\n",
      "94/94 [==============================] - 0s - loss: 550.0422     \n",
      "Epoch 67/100\n",
      "94/94 [==============================] - 0s - loss: 562.3545     \n",
      "Epoch 68/100\n",
      "94/94 [==============================] - 0s - loss: 546.5380     \n",
      "Epoch 69/100\n",
      "94/94 [==============================] - 0s - loss: 539.2974     \n",
      "Epoch 70/100\n",
      "94/94 [==============================] - 0s - loss: 543.8359     \n",
      "Epoch 71/100\n",
      "94/94 [==============================] - 0s - loss: 541.0887     \n",
      "Epoch 72/100\n",
      "94/94 [==============================] - 0s - loss: 564.0048     \n",
      "Epoch 73/100\n",
      "94/94 [==============================] - 0s - loss: 550.6209     \n",
      "Epoch 74/100\n",
      "94/94 [==============================] - 0s - loss: 539.5348     \n",
      "Epoch 75/100\n",
      "94/94 [==============================] - 0s - loss: 549.7603     \n",
      "Epoch 76/100\n",
      "94/94 [==============================] - 0s - loss: 546.8635     \n",
      "Epoch 77/100\n",
      "94/94 [==============================] - 0s - loss: 546.2454     \n",
      "Epoch 78/100\n",
      "94/94 [==============================] - 0s - loss: 541.0473     \n",
      "Epoch 79/100\n",
      "94/94 [==============================] - 0s - loss: 546.6258     \n",
      "Epoch 80/100\n",
      "94/94 [==============================] - 0s - loss: 552.1570     \n",
      "Epoch 81/100\n",
      "94/94 [==============================] - 0s - loss: 554.2641     \n",
      "Epoch 82/100\n",
      "94/94 [==============================] - 0s - loss: 545.6764     \n",
      "Epoch 83/100\n",
      "94/94 [==============================] - 0s - loss: 566.1011     \n",
      "Epoch 84/100\n",
      "94/94 [==============================] - 0s - loss: 548.7881     \n",
      "Epoch 85/100\n",
      "94/94 [==============================] - 0s - loss: 536.3576     \n",
      "Epoch 86/100\n",
      "94/94 [==============================] - 0s - loss: 548.8606     \n",
      "Epoch 87/100\n",
      "94/94 [==============================] - 0s - loss: 547.4672     \n",
      "Epoch 88/100\n",
      "94/94 [==============================] - 0s - loss: 544.1183     \n",
      "Epoch 89/100\n",
      "94/94 [==============================] - 0s - loss: 558.2236     \n",
      "Epoch 90/100\n",
      "94/94 [==============================] - 0s - loss: 534.9275     \n",
      "Epoch 91/100\n",
      "94/94 [==============================] - 0s - loss: 579.8217     \n",
      "Epoch 92/100\n",
      "94/94 [==============================] - 0s - loss: 547.7983     \n",
      "Epoch 93/100\n",
      "94/94 [==============================] - 0s - loss: 540.7909     \n",
      "Epoch 94/100\n",
      "94/94 [==============================] - 0s - loss: 539.3961     \n",
      "Epoch 95/100\n",
      "94/94 [==============================] - 0s - loss: 539.3966     \n",
      "Epoch 96/100\n",
      "94/94 [==============================] - 0s - loss: 545.4323     \n",
      "Epoch 97/100\n",
      "94/94 [==============================] - 0s - loss: 540.1134     \n",
      "Epoch 98/100\n",
      "94/94 [==============================] - 0s - loss: 548.8184     \n",
      "Epoch 99/100\n",
      "94/94 [==============================] - 0s - loss: 548.7689     \n",
      "Epoch 100/100\n",
      "94/94 [==============================] - 0s - loss: 543.6990     \n"
     ]
    },
    {
     "data": {
      "text/plain": [
       "<keras.callbacks.History at 0x11a993c50>"
      ]
     },
     "execution_count": 51,
     "metadata": {},
     "output_type": "execute_result"
    }
   ],
   "source": [
    "'''\n",
    "MLP definition\n",
    "'''\n",
    "# Create Multilayer Perceptron model\n",
    "model = Sequential()\n",
    "model.add(Dense(8, \n",
    "                input_dim = look_back, \n",
    "                activation='relu'))\n",
    "model.add(Dense(1))\n",
    "\n",
    "# Compiling setp\n",
    "model.compile(loss='mean_squared_error', \n",
    "              optimizer='adam')\n",
    "\n",
    "# Fit MLP on training data\n",
    "model.fit(trainX, \n",
    "          trainY, \n",
    "          nb_epoch=100, \n",
    "          batch_size=2, \n",
    "          verbose = 1)"
   ]
  },
  {
   "cell_type": "markdown",
   "metadata": {},
   "source": [
    "## Step 5: Model performance ##"
   ]
  },
  {
   "cell_type": "code",
   "execution_count": 52,
   "metadata": {
    "collapsed": false
   },
   "outputs": [
    {
     "name": "stdout",
     "output_type": "stream",
     "text": [
      "Train Score: 532.92 MSE (23.08 RMSE)\n",
      "Test Score: 2357.14 MSE (48.55 RMSE)\n"
     ]
    }
   ],
   "source": [
    "'''\n",
    "Estimate model performance\n",
    "'''\n",
    "# Training score\n",
    "trainScore = model.evaluate(trainX, \n",
    "                            trainY, \n",
    "                            verbose=0)\n",
    "print('Train Score: %.2f MSE (%.2f RMSE)' % (trainScore, math.sqrt(trainScore)))\n",
    "\n",
    "# Testing score\n",
    "testScore = model.evaluate(testX, \n",
    "                           testY, \n",
    "                           verbose=0)\n",
    "print('Test Score: %.2f MSE (%.2f RMSE)' % (testScore, math.sqrt(testScore)))"
   ]
  },
  {
   "cell_type": "markdown",
   "metadata": {},
   "source": [
    "## Step 6: Make predictions using the test set ## "
   ]
  },
  {
   "cell_type": "code",
   "execution_count": 53,
   "metadata": {
    "collapsed": true
   },
   "outputs": [],
   "source": [
    "# Training set predictions\n",
    "trainPredict = model.predict(trainX)\n",
    "\n",
    "# Testing set predictions\n",
    "testPredict = model.predict(testX)"
   ]
  },
  {
   "cell_type": "markdown",
   "metadata": {},
   "source": [
    "## Step 7: Plotting the results ##\n",
    "\n",
    "* We have to shift the training set and testing predictions so that they align on the x-axis with the original dataset\n",
    "\n",
    "We plot the predictions with the training set in GREEN, testing set in RED and for the entire dataset in BLUE."
   ]
  },
  {
   "cell_type": "code",
   "execution_count": 54,
   "metadata": {
    "collapsed": false
   },
   "outputs": [
    {
     "data": {
      "text/plain": [
       "(46, 1)"
      ]
     },
     "execution_count": 54,
     "metadata": {},
     "output_type": "execute_result"
    }
   ],
   "source": [
    "testPredict.shape"
   ]
  },
  {
   "cell_type": "code",
   "execution_count": 55,
   "metadata": {
    "collapsed": false
   },
   "outputs": [
    {
     "data": {
      "image/png": "[encoded data removed]",
      "text/plain": [
       "<matplotlib.figure.Figure at 0x119393090>"
      ]
     },
     "metadata": {},
     "output_type": "display_data"
    }
   ],
   "source": [
    "# Shift train predictions for plotting\n",
    "trainPredictPlot = numpy.empty_like(dataset)\n",
    "trainPredictPlot[:, :] = numpy.nan\n",
    "trainPredictPlot[look_back:len(trainPredict)+look_back, :] = trainPredict\n",
    "\n",
    "\n",
    "# Shift test predictions for plotting\n",
    "testPredictPlot = numpy.empty_like(dataset)\n",
    "testPredictPlot[:, :] = numpy.nan\n",
    "testPredictPlot[len(trainPredict) + (look_back*2) + 1:len(dataset)-1, :] = testPredict\n",
    "\n",
    "# Plot baseline and predictions\n",
    "plt.plot(dataset)\n",
    "plt.plot(trainPredictPlot)\n",
    "plt.plot(testPredictPlot)\n",
    "plt.show()"
   ]
  },
  {
   "cell_type": "markdown",
   "metadata": {},
   "source": [
    "We get an average error of 23 passengers(in thousands) on the training set and 48 passengers(in thousands) in the testing set."
   ]
  },
  {
   "cell_type": "markdown",
   "metadata": {},
   "source": [
    "## Part 2: Using multiple recent time steps to make the prediction for the next time step ## \n",
    "\n",
    "* This approach is called the **window method**.\n",
    "* The window size parameter can be tuned based on the problem."
   ]
  },
  {
   "cell_type": "code",
   "execution_count": 56,
   "metadata": {
    "collapsed": false
   },
   "outputs": [
    {
     "name": "stdout",
     "output_type": "stream",
     "text": [
      "(96, 48)\n",
      "Epoch 1/100\n",
      "0s - loss: 24673.5647\n",
      "Epoch 2/100\n",
      "0s - loss: 6741.9774\n",
      "Epoch 3/100\n",
      "0s - loss: 1542.2905\n",
      "Epoch 4/100\n",
      "0s - loss: 1125.5150\n",
      "Epoch 5/100\n",
      "0s - loss: 1112.9050\n",
      "Epoch 6/100\n",
      "0s - loss: 1105.0325\n",
      "Epoch 7/100\n",
      "0s - loss: 1103.2822\n",
      "Epoch 8/100\n",
      "0s - loss: 1103.9377\n",
      "Epoch 9/100\n",
      "0s - loss: 1107.9022\n",
      "Epoch 10/100\n",
      "0s - loss: 1115.5296\n",
      "Epoch 11/100\n",
      "0s - loss: 1083.6503\n",
      "Epoch 12/100\n",
      "0s - loss: 1065.2605\n",
      "Epoch 13/100\n",
      "0s - loss: 1066.0359\n",
      "Epoch 14/100\n",
      "0s - loss: 1054.7671\n",
      "Epoch 15/100\n",
      "0s - loss: 1063.2374\n",
      "Epoch 16/100\n",
      "0s - loss: 1043.3964\n",
      "Epoch 17/100\n",
      "0s - loss: 1063.6967\n",
      "Epoch 18/100\n",
      "0s - loss: 1032.4170\n",
      "Epoch 19/100\n",
      "0s - loss: 1007.3426\n",
      "Epoch 20/100\n",
      "0s - loss: 1042.5784\n",
      "Epoch 21/100\n",
      "0s - loss: 1017.8673\n",
      "Epoch 22/100\n",
      "0s - loss: 998.0323\n",
      "Epoch 23/100\n",
      "0s - loss: 993.4898\n",
      "Epoch 24/100\n",
      "0s - loss: 1002.5243\n",
      "Epoch 25/100\n",
      "0s - loss: 984.5083\n",
      "Epoch 26/100\n",
      "0s - loss: 945.3985\n",
      "Epoch 27/100\n",
      "0s - loss: 941.0768\n",
      "Epoch 28/100\n",
      "0s - loss: 920.8767\n",
      "Epoch 29/100\n",
      "0s - loss: 923.9604\n",
      "Epoch 30/100\n",
      "0s - loss: 908.0659\n",
      "Epoch 31/100\n",
      "0s - loss: 940.4017\n",
      "Epoch 32/100\n",
      "0s - loss: 895.3560\n",
      "Epoch 33/100\n",
      "0s - loss: 887.0387\n",
      "Epoch 34/100\n",
      "0s - loss: 868.8865\n",
      "Epoch 35/100\n",
      "0s - loss: 884.2032\n",
      "Epoch 36/100\n",
      "0s - loss: 878.3110\n",
      "Epoch 37/100\n",
      "0s - loss: 894.4909\n",
      "Epoch 38/100\n",
      "0s - loss: 853.7103\n",
      "Epoch 39/100\n",
      "0s - loss: 856.0712\n",
      "Epoch 40/100\n",
      "0s - loss: 825.0181\n",
      "Epoch 41/100\n",
      "0s - loss: 803.0179\n",
      "Epoch 42/100\n",
      "0s - loss: 774.5732\n",
      "Epoch 43/100\n",
      "0s - loss: 784.2157\n",
      "Epoch 44/100\n",
      "0s - loss: 782.9617\n",
      "Epoch 45/100\n",
      "0s - loss: 775.4398\n",
      "Epoch 46/100\n",
      "0s - loss: 769.5700\n",
      "Epoch 47/100\n",
      "0s - loss: 739.4326\n",
      "Epoch 48/100\n",
      "0s - loss: 738.5244\n",
      "Epoch 49/100\n",
      "0s - loss: 738.6932\n",
      "Epoch 50/100\n",
      "0s - loss: 765.0289\n",
      "Epoch 51/100\n",
      "0s - loss: 698.6629\n",
      "Epoch 52/100\n",
      "0s - loss: 725.9902\n",
      "Epoch 53/100\n",
      "0s - loss: 740.5112\n",
      "Epoch 54/100\n",
      "0s - loss: 756.7619\n",
      "Epoch 55/100\n",
      "0s - loss: 687.2219\n",
      "Epoch 56/100\n",
      "0s - loss: 670.4476\n",
      "Epoch 57/100\n",
      "0s - loss: 697.4991\n",
      "Epoch 58/100\n",
      "0s - loss: 665.8061\n",
      "Epoch 59/100\n",
      "0s - loss: 645.7744\n",
      "Epoch 60/100\n",
      "0s - loss: 692.7326\n",
      "Epoch 61/100\n",
      "0s - loss: 655.5970\n",
      "Epoch 62/100\n",
      "0s - loss: 641.0628\n",
      "Epoch 63/100\n",
      "0s - loss: 640.3603\n",
      "Epoch 64/100\n",
      "0s - loss: 622.8458\n",
      "Epoch 65/100\n",
      "0s - loss: 619.8409\n",
      "Epoch 66/100\n",
      "0s - loss: 617.3667\n",
      "Epoch 67/100\n",
      "0s - loss: 653.5995\n",
      "Epoch 68/100\n",
      "0s - loss: 614.0337\n",
      "Epoch 69/100\n",
      "0s - loss: 602.7219\n",
      "Epoch 70/100\n",
      "0s - loss: 612.4966\n",
      "Epoch 71/100\n",
      "0s - loss: 580.3232\n",
      "Epoch 72/100\n",
      "0s - loss: 618.5120\n",
      "Epoch 73/100\n",
      "0s - loss: 631.8530\n",
      "Epoch 74/100\n",
      "0s - loss: 606.3332\n",
      "Epoch 75/100\n",
      "0s - loss: 619.2958\n",
      "Epoch 76/100\n",
      "0s - loss: 583.7429\n",
      "Epoch 77/100\n",
      "0s - loss: 579.1473\n",
      "Epoch 78/100\n",
      "0s - loss: 618.9871\n",
      "Epoch 79/100\n",
      "0s - loss: 600.2016\n",
      "Epoch 80/100\n",
      "0s - loss: 562.7513\n",
      "Epoch 81/100\n",
      "0s - loss: 557.7072\n",
      "Epoch 82/100\n",
      "0s - loss: 546.2074\n",
      "Epoch 83/100\n",
      "0s - loss: 585.5764\n",
      "Epoch 84/100\n",
      "0s - loss: 577.1575\n",
      "Epoch 85/100\n",
      "0s - loss: 529.3197\n",
      "Epoch 86/100\n",
      "0s - loss: 520.9075\n",
      "Epoch 87/100\n",
      "0s - loss: 552.8176\n",
      "Epoch 88/100\n",
      "0s - loss: 538.5754\n",
      "Epoch 89/100\n",
      "0s - loss: 541.6169\n",
      "Epoch 90/100\n",
      "0s - loss: 512.3220\n",
      "Epoch 91/100\n",
      "0s - loss: 543.8474\n",
      "Epoch 92/100\n",
      "0s - loss: 501.2846\n",
      "Epoch 93/100\n",
      "0s - loss: 515.6220\n",
      "Epoch 94/100\n",
      "0s - loss: 520.1656\n",
      "Epoch 95/100\n",
      "0s - loss: 504.5638\n",
      "Epoch 96/100\n",
      "0s - loss: 509.9801\n",
      "Epoch 97/100\n",
      "0s - loss: 517.0896\n",
      "Epoch 98/100\n",
      "0s - loss: 494.2675\n",
      "Epoch 99/100\n",
      "0s - loss: 509.5077\n",
      "Epoch 100/100\n",
      "0s - loss: 492.3042\n",
      "Train Score: 489.43 MSE (22.12 RMSE)\n",
      "Test Score: 2126.39 MSE (46.11 RMSE)\n"
     ]
    },
    {
     "data": {
      "image/png": "[encoded data removed]",
      "text/plain": [
       "<matplotlib.figure.Figure at 0x11b84cf10>"
      ]
     },
     "metadata": {},
     "output_type": "display_data"
    }
   ],
   "source": [
    "'''\n",
    "The code is the same as in part 1 except for the look_back parameter value.\n",
    "'''\n",
    "# Multilayer Perceptron to Predict International Airline Passengers (t+1, given t, t-1, t-2)\n",
    "\n",
    "\n",
    "# Load the dataset\n",
    "dataframe = pandas.read_csv('international-airline-passengers.csv', usecols=[1], engine='python', skipfooter=3)\n",
    "dataset = dataframe.values\n",
    "dataset = dataset.astype('float32')\n",
    "\n",
    "# Split into train and test sets\n",
    "train_size = int(len(dataset) * 0.67)\n",
    "test_size = len(dataset) - train_size\n",
    "train, test = dataset[0:train_size,:], dataset[train_size:len(dataset),:]\n",
    "print(len(train), len(test))\n",
    "\n",
    "'''\n",
    "Change in look_back value here.\n",
    "'''\n",
    "# Reshape dataset\n",
    "look_back = 10\n",
    "trainX, trainY = create_dataset(train, look_back)\n",
    "testX, testY = create_dataset(test, look_back)\n",
    "\n",
    "'''\n",
    "Create and fit Multilayer Perceptron model'''\n",
    "model = Sequential()\n",
    "model.add(Dense(8, \n",
    "                input_dim = look_back, \n",
    "                activation='relu'))\n",
    "model.add(Dense(1))\n",
    "model.compile(loss='mean_squared_error', \n",
    "              optimizer='adam')\n",
    "model.fit(trainX, \n",
    "          trainY, \n",
    "          nb_epoch=100, \n",
    "          batch_size=2, \n",
    "          verbose=2)\n",
    "\n",
    "'''\n",
    "Estimate model performance\n",
    "'''\n",
    "trainScore = model.evaluate(trainX, \n",
    "                            trainY, \n",
    "                            verbose=0)\n",
    "print('Train Score: %.2f MSE (%.2f RMSE)' % (trainScore, math.sqrt(trainScore)))\n",
    "testScore = model.evaluate(testX, testY, verbose=0)\n",
    "print('Test Score: %.2f MSE (%.2f RMSE)' % (testScore, math.sqrt(testScore)))\n",
    "\n",
    "'''\n",
    "Generate predictions for training'''\n",
    "trainPredict = model.predict(trainX)\n",
    "testPredict = model.predict(testX)\n",
    "\n",
    "'''\n",
    "Shift train predictions for plotting'''\n",
    "trainPredictPlot = numpy.empty_like(dataset)\n",
    "trainPredictPlot[:, :] = numpy.nan\n",
    "trainPredictPlot[look_back:len(trainPredict)+look_back, :] = trainPredict\n",
    "\n",
    "'''\n",
    "Shift test predictions for plotting'''\n",
    "testPredictPlot = numpy.empty_like(dataset)\n",
    "testPredictPlot[:, :] = numpy.nan\n",
    "testPredictPlot[len(trainPredict)+(look_back*2)+1:len(dataset)-1, :] = testPredict\n",
    "\n",
    "'''\n",
    "Plot baseline and predictions'''\n",
    "plt.plot(dataset)\n",
    "plt.plot(trainPredictPlot)\n",
    "plt.plot(testPredictPlot)\n",
    "plt.show()"
   ]
  },
  {
   "cell_type": "markdown",
   "metadata": {},
   "source": [
    "On the training set we get an average error of 22.12(in thousands) and on the testing set we get an average error of 46.11(in thousands)"
   ]
  },
  {
   "cell_type": "code",
   "execution_count": null,
   "metadata": {
    "collapsed": true
   },
   "outputs": [],
   "source": []
  }
 ],
 "metadata": {
  "kernelspec": {
   "display_name": "Python 2",
   "language": "python",
   "name": "python2"
  },
  "language_info": {
   "codemirror_mode": {
    "name": "ipython",
    "version": 2
   },
   "file_extension": ".py",
   "mimetype": "text/x-python",
   "name": "python",
   "nbconvert_exporter": "python",
   "pygments_lexer": "ipython2",
   "version": "2.7.12"
  }
 },
 "nbformat": 4,
 "nbformat_minor": 0
}

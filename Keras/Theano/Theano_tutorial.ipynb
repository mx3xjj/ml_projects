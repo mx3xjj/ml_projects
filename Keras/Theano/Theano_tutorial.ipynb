{
 "cells": [
  {
   "cell_type": "markdown",
   "metadata": {},
   "source": [
    "# Theano #\n",
    "\n",
    "Theano is built around tensors to evaluate symbolic mathematical expressions. \n",
    "\n",
    "* Scalar: rank-0 tensor\n",
    "* Vector: rank-1 tensor\n",
    "* Matrix: rank-2 tensor\n",
    "\n",
    "Code in Theano follows 3 steps:\n",
    "\n",
    "1. Define the symbols(variable objects)\n",
    "2. Compile code.\n",
    "3. Execute code.\n",
    "\n",
    "We have to choose if we want to use 64 or 32 bit integers/floats, which affects the performance of our code. "
   ]
  },
  {
   "cell_type": "markdown",
   "metadata": {},
   "source": [
    "## Using theano.function ##"
   ]
  },
  {
   "cell_type": "code",
   "execution_count": 4,
   "metadata": {
    "collapsed": false
   },
   "outputs": [
    {
     "data": {
      "text/plain": [
       "array(2.5)"
      ]
     },
     "execution_count": 4,
     "metadata": {},
     "output_type": "execute_result"
    }
   ],
   "source": [
    "import theano\n",
    "from theano import tensor as T\n",
    "\n",
    "'''\n",
    "Compute a net input z of a sample point x in a one dimensional dataset with weight w1 and bias w0.\n",
    "\n",
    "z = x1 * w1 + w0\n",
    "'''\n",
    "\n",
    "# initialize the variables\n",
    "x1 = T.scalar()\n",
    "w1 = T.scalar()\n",
    "w0 = T.scalar()\n",
    "\n",
    "# define equation\n",
    "z1 = w1 * x1 + w0\n",
    "\n",
    "# compile code\n",
    "net_input = theano.function(inputs = [w1, x1, w0], \n",
    "                            outputs = z1)\n",
    "\n",
    "# execute code\n",
    "net_input(2.0, 1.0, 0.5)"
   ]
  },
  {
   "cell_type": "code",
   "execution_count": 6,
   "metadata": {
    "collapsed": false
   },
   "outputs": [
    {
     "name": "stdout",
     "output_type": "stream",
     "text": [
      "float64\n"
     ]
    }
   ],
   "source": [
    "'''\n",
    "Defualt dtype is float64 which runs on the CPU. It can be changed to float32 which runs on the GPU as follows:\n",
    "\n",
    "theano.config.floatX = 'float32'\n",
    "'''\n",
    "print(theano.config.floatX)"
   ]
  },
  {
   "cell_type": "markdown",
   "metadata": {},
   "source": [
    "To change the float type globally, execute\n",
    "\n",
    "`export THEANO_FLAGS=floatX=float32 `\n",
    "\n",
    "in your bash shell. Or execute Python script as\n",
    "\n",
    "`THEANO_FLAGS=floatX=float32 python your_script.py`\n",
    "\n",
    "Running Theano on GPU(s). For prerequisites, please see: http://deeplearning.net/software/theano/tutorial/using_gpu.html\n",
    "\n",
    "Note that float32 is recommended for GPUs; float64 on GPUs is currently still relatively slow."
   ]
  },
  {
   "cell_type": "code",
   "execution_count": 7,
   "metadata": {
    "collapsed": false
   },
   "outputs": [
    {
     "name": "stdout",
     "output_type": "stream",
     "text": [
      "cpu\n"
     ]
    }
   ],
   "source": [
    "'''\n",
    "Check where the theano code is running.\n",
    "'''\n",
    "print(theano.config.device)"
   ]
  },
  {
   "cell_type": "markdown",
   "metadata": {},
   "source": [
    "** Apply setting only to a particular python script - you can run a Python script on CPU via: ** \n",
    "\n",
    "`THEANO_FLAGS=device=cpu,floatX=float64 python your_script.py`\n",
    "\n",
    "** Apply setting only to a particular python script to be run on the GPU via ** \n",
    "\n",
    "`THEANO_FLAGS=device=gpu,floatX=float32 python your_script.py`\n",
    "\n",
    "** It may also be convenient to create a .theanorc file in your home directory to make those configurations permanent. For example, to always use float32, execute ** \n",
    "\n",
    "`echo -e \"\\n[global]\\nfloatX=float32\\n\" >> ~/.theanorc`\n",
    "\n",
    "** Or, create a .theanorc file manually with the following contents ** \n",
    "\n",
    "`[global]\n",
    "floatX = float32\n",
    "device = gpu`"
   ]
  },
  {
   "cell_type": "markdown",
   "metadata": {},
   "source": [
    "## Using theano to work with arrays ##\n",
    "\n",
    "* fmatrix\n",
    "* dmatrix"
   ]
  },
  {
   "cell_type": "code",
   "execution_count": 8,
   "metadata": {
    "collapsed": false
   },
   "outputs": [
    {
     "name": "stdout",
     "output_type": "stream",
     "text": [
      "('Column sum:', array([ 2.,  4.,  6.]))\n",
      "('Column sum:', array([ 2.,  4.,  6.]))\n"
     ]
    }
   ],
   "source": [
    "import numpy as np\n",
    "\n",
    "# initialize variables for theano function.\n",
    "# if you are running Theano on 64 bit mode, \n",
    "# you need to use dmatrix instead of fmatrix\n",
    "x = T.dmatrix(name='x')\n",
    "x_sum = T.sum(x, axis=0)\n",
    "\n",
    "# compile code\n",
    "calc_sum = theano.function(inputs = [x], \n",
    "                           outputs = x_sum)\n",
    "\n",
    "# execute (Python list)\n",
    "ary = [[1, 2, 3], [1, 2, 3]]\n",
    "print('Column sum:', calc_sum(ary))\n",
    "\n",
    "# execute (NumPy array)\n",
    "ary = np.array([[1, 2, 3], [1, 2, 3]], \n",
    "               dtype = theano.config.floatX)\n",
    "print('Column sum:', calc_sum(ary))"
   ]
  },
  {
   "cell_type": "markdown",
   "metadata": {},
   "source": [
    "## Using the shared variable ##\n",
    "\n",
    "http://deeplearning.net/software/theano/tutorial/aliasing.html\n",
    "\n",
    "The main idea is that there is a pool of memory managed by Theano, and Theano tracks changes to values in that pool. Theano spreads memory space across multiple devices(CPUs, GPUs), to track changes in the memory space it aliases the respective buffers. \n",
    "\n",
    "* The shared variable allows us to spread large objects like arrays, and grant multiple functions read and write access so that we can perform updates on those objects after compilation. \n",
    "* Theano manages its own memory space, which typically does not overlap with the memory of normal Python variables that non-Theano code creates.\n",
    "* Theano functions only modify buffers that are in Theano’s memory space.\n",
    "* Theano’s memory space includes the buffers allocated to store shared variables and the temporaries used to evaluate functions.\n",
    "* Physically, Theano’s memory space may be spread across the host, a GPU device(s), and in the future may even include objects on a remote machine.\n",
    "* The memory allocated for a shared variable buffer is unique: it is never aliased to another shared variable.\n",
    "* Theano’s managed memory is constant while Theano functions are not running and Theano’s library code is not running.\n",
    "* The default behaviour of a function is to return user-space values for outputs, and to expect user-space values for inputs."
   ]
  },
  {
   "cell_type": "code",
   "execution_count": 9,
   "metadata": {
    "collapsed": false
   },
   "outputs": [
    {
     "name": "stdout",
     "output_type": "stream",
     "text": [
      "('z0:', array([[ 0.]]))\n",
      "('z1:', array([[ 6.]]))\n",
      "('z2:', array([[ 12.]]))\n",
      "('z3:', array([[ 18.]]))\n",
      "('z4:', array([[ 24.]]))\n"
     ]
    }
   ],
   "source": [
    "'''\n",
    "Define an update variable such that we want to update an array w by a value of 1.0 after each iteration of a for loop.\n",
    "'''\n",
    "\n",
    "# initialize variables\n",
    "x = T.dmatrix(name = 'x')\n",
    "w = theano.shared(np.asarray([[0.0, 0.0, 0.0]], \n",
    "                            dtype = theano.config.floatX))\n",
    "z = x.dot(w.T)\n",
    "update = [[w, w + 1.0]]\n",
    "\n",
    "# compile code\n",
    "net_input = theano.function(inputs = [x], \n",
    "                            updates = update, \n",
    "                            outputs = z)\n",
    "\n",
    "# execute code\n",
    "data = np.array([[1, 2, 3]], \n",
    "                dtype = theano.config.floatX)\n",
    "for i in range(5):\n",
    "    print('z%d:' % i, net_input(data))"
   ]
  },
  {
   "cell_type": "markdown",
   "metadata": {},
   "source": [
    "## Using the givens variable ##\n",
    "\n",
    "* We can insert values into the graph before compiling it. \n",
    "* Thus we can reduce the number of transfers from RAM over CPUs to GPUs to speed up learning algorithms that use shared variables.\n",
    "* If we use `inputs` in theano.function, data is transferred from the CPU to the GPU multiple times. \n",
    "* Using `givens` we can keep the dataset on the GPU if it fits into memory."
   ]
  },
  {
   "cell_type": "code",
   "execution_count": 10,
   "metadata": {
    "collapsed": false
   },
   "outputs": [
    {
     "name": "stdout",
     "output_type": "stream",
     "text": [
      "('z:', array([[ 0.]]))\n",
      "('z:', array([[ 6.]]))\n",
      "('z:', array([[ 12.]]))\n",
      "('z:', array([[ 18.]]))\n",
      "('z:', array([[ 24.]]))\n"
     ]
    }
   ],
   "source": [
    "# initialize code(same as the previos node)\n",
    "data = np.array([[1, 2, 3]], \n",
    "                dtype=theano.config.floatX)\n",
    "x = T.dmatrix(name='x')\n",
    "w = theano.shared(np.asarray([[0.0, 0.0, 0.0]], \n",
    "                             dtype=theano.config.floatX))\n",
    "z = x.dot(w.T)\n",
    "update = [[w, w + 1.0]]\n",
    "\n",
    "# compile the code using givens\n",
    "net_input = theano.function(inputs = [], \n",
    "                            updates = update, \n",
    "                            givens = {x: data},\n",
    "                            outputs = z)\n",
    "\n",
    "# execute\n",
    "for i in range(5):\n",
    "    print('z:', net_input())"
   ]
  },
  {
   "cell_type": "markdown",
   "metadata": {},
   "source": [
    "# Choosing activation functions for feedforward neural networks #\n",
    "\n",
    "* Sigmoid function = logistic function = negative log likelihood function\n",
    "* Linear functions are not very suitable for NN as we want to introduce non linearity to tackle complex problems.\n",
    "* Sigmoid/logisic functions can be problematic when we have highly -ve inputs, as the function will return values very close to 0. Therefore, the NN will learn very slowly and can get stuck in a local minima. \n",
    "* Hence, we use ** Hyperbolic tangents **."
   ]
  },
  {
   "cell_type": "markdown",
   "metadata": {},
   "source": [
    "## Logistic function/Sigmoid function implementation ##"
   ]
  },
  {
   "cell_type": "code",
   "execution_count": 11,
   "metadata": {
    "collapsed": false
   },
   "outputs": [
    {
     "name": "stdout",
     "output_type": "stream",
     "text": [
      "P(y=1|x) = 0.707\n"
     ]
    }
   ],
   "source": [
    "# note that first element (X[0] = 1) to denote bias unit\n",
    "X = np.array([[1, 1.4, 1.5]])\n",
    "# weights\n",
    "w = np.array([0.0, 0.2, 0.4])\n",
    "\n",
    "'''\n",
    "Dot product of inputs with their corresponding weights\n",
    "'''\n",
    "def net_input(X, w):\n",
    "    z = X.dot(w)\n",
    "    return z\n",
    "\n",
    "'''\n",
    "Feeding net input value(input dot weight) to Sigmoid function\n",
    "'''\n",
    "def logistic(z):\n",
    "    return 1.0 / (1.0 + np.exp(-z))\n",
    "\n",
    "'''\n",
    "Apply Sigmoid function as activation function\n",
    "'''\n",
    "def logistic_activation(X, w):\n",
    "    z = net_input(X, w)\n",
    "    return logistic(z)\n",
    "\n",
    "'''\n",
    "Probability that the sample belongs to the positive class\n",
    "'''\n",
    "print('P(y=1|x) = %.3f' % logistic_activation(X, w)[0])"
   ]
  },
  {
   "cell_type": "markdown",
   "metadata": {},
   "source": [
    "## Multi layer perceptron with 3 hidden units using Sigmoid function ##\n",
    "\n",
    "MLP perceptron with 3 hidden units + 1 bias unit in the hidden unit. The output layer consists of 3 output units.\n",
    "\n",
    "Sigmoid function doesn't work as well when we have to compute multi class probabilities as we can see below, the probability percentages are 87%, 57% and 90%."
   ]
  },
  {
   "cell_type": "code",
   "execution_count": 12,
   "metadata": {
    "collapsed": false
   },
   "outputs": [
    {
     "name": "stdout",
     "output_type": "stream",
     "text": [
      "('Probabilities:\\n', array([[ 0.87653295],\n",
      "       [ 0.57688526],\n",
      "       [ 0.90114393]]))\n"
     ]
    }
   ],
   "source": [
    "# W : array, shape = [n_output_units, n_hidden_units+1]\n",
    "# Weight matrix for hidden layer -> output layer.\n",
    "# note that first column (W[:][0]) contains the bias units\n",
    "W = np.array([[1.1, 1.2, 1.3, 0.5],\n",
    "              [0.1, 0.2, 0.4, 0.1],\n",
    "              [0.2, 0.5, 2.1, 1.9]])\n",
    "\n",
    "# A : array, shape = [n_hidden+1, n_samples]\n",
    "# Activation of hidden layer.\n",
    "# note that first element (A[0][0] = 1) is for the bias units \n",
    "A = np.array([[1.0], \n",
    "              [0.1], \n",
    "              [0.3], \n",
    "              [0.7]])\n",
    "\n",
    "# Z : array, shape = [n_output_units, n_samples]\n",
    "# Net input of output layer.\n",
    "Z = W.dot(A) \n",
    "\n",
    "# Apply activation function\n",
    "y_probas = logistic(Z)\n",
    "\n",
    "'''\n",
    "Compute probabilities that sample belongs to which of the 3 classes. \n",
    "'''\n",
    "print('Probabilities:\\n', y_probas)"
   ]
  },
  {
   "cell_type": "markdown",
   "metadata": {},
   "source": [
    "## Multilayer Perceptron using Softmax function for multi class classification ##\n",
    "\n",
    "* Softmax is a normalized logistic function\n",
    "* The probability of a particular sample with net input z, belongs to the i class, can be computed with a normalization term in the denominator that is the sum of all M linear functions.\n",
    "* The sum of all probabilities outputted by the softmax function will equal 1."
   ]
  },
  {
   "cell_type": "code",
   "execution_count": 13,
   "metadata": {
    "collapsed": true
   },
   "outputs": [],
   "source": [
    "def softmax(z): \n",
    "    return np.exp(z) / np.sum(np.exp(z))\n",
    "\n",
    "def softmax_activation(X, w):\n",
    "    z = net_input(X, w)\n",
    "    return softmax(z)"
   ]
  },
  {
   "cell_type": "code",
   "execution_count": 14,
   "metadata": {
    "collapsed": false
   },
   "outputs": [
    {
     "name": "stdout",
     "output_type": "stream",
     "text": [
      "('Probabilities:\\n', array([[ 0.40386493],\n",
      "       [ 0.07756222],\n",
      "       [ 0.51857284]]))\n"
     ]
    }
   ],
   "source": [
    "'''\n",
    "Using softmax to compute multi class probabilities for the same input and weight vector example defined above.\n",
    "'''\n",
    "y_probas = softmax(Z)\n",
    "print('Probabilities:\\n', y_probas)"
   ]
  },
  {
   "cell_type": "markdown",
   "metadata": {},
   "source": [
    "## MLP using a Hyperbolic tangent ##\n",
    "\n",
    "* Hyperbolic tangent is a rescaled version of the logistic function. \n",
    "* It's advantage over the logistic function is that it has a broader output spectrum(-1,1) which can improve the convergence of the back propagation algorithm. The sigmoid function output spectrum is (0,1). "
   ]
  },
  {
   "cell_type": "code",
   "execution_count": 16,
   "metadata": {
    "collapsed": false
   },
   "outputs": [
    {
     "name": "stdout",
     "output_type": "stream",
     "text": [
      "Populating the interactive namespace from numpy and matplotlib\n"
     ]
    },
    {
     "name": "stderr",
     "output_type": "stream",
     "text": [
      "WARNING: pylab import has clobbered these variables: ['tanh']\n",
      "`%matplotlib` prevents importing * from pylab and numpy\n"
     ]
    },
    {
     "data": {
      "image/png": "[encoded data removed]",
      "text/plain": [
       "<matplotlib.figure.Figure at 0x103a2a590>"
      ]
     },
     "metadata": {},
     "output_type": "display_data"
    }
   ],
   "source": [
    "'''\n",
    "Plotting output of tanh function vs sigmoid function\n",
    "'''\n",
    "def tanh(z):\n",
    "    e_p = np.exp(z) \n",
    "    e_m = np.exp(-z)\n",
    "    return (e_p - e_m) / (e_p + e_m)  \n",
    "\n",
    "%pylab inline\n",
    "import matplotlib.pyplot as plt\n",
    "\n",
    "z = np.arange(-5, 5, 0.005)\n",
    "log_act = logistic(z)\n",
    "tanh_act = tanh(z)\n",
    "\n",
    "# Can implement directly using numpy ---> np.tanh\n",
    "# from scipy.special import expit\n",
    "# log_act = expit(z)\n",
    "# tanh_act = np.tanh(z)\n",
    "\n",
    "plt.ylim([-1.5, 1.5])\n",
    "plt.xlabel('net input $z$')\n",
    "plt.ylabel('activation $\\phi(z)$')\n",
    "plt.axhline(1, color='black', linestyle='--')\n",
    "plt.axhline(0.5, color='black', linestyle='--')\n",
    "plt.axhline(0, color='black', linestyle='--')\n",
    "plt.axhline(-1, color='black', linestyle='--')\n",
    "\n",
    "plt.plot(z, tanh_act, \n",
    "         linewidth=2, \n",
    "         color='black', \n",
    "         label='tanh')\n",
    "# plt.plot(z, log_act, \n",
    "#          linewidth=2, \n",
    "#          color='lightgreen', \n",
    "#          label='logistic')\n",
    "\n",
    "plt.legend(loc='lower right')\n",
    "plt.tight_layout()\n",
    "# plt.savefig('./figures/activation.png', dpi=300)\n",
    "plt.show()"
   ]
  },
  {
   "cell_type": "code",
   "execution_count": null,
   "metadata": {
    "collapsed": true
   },
   "outputs": [],
   "source": []
  }
 ],
 "metadata": {
  "kernelspec": {
   "display_name": "Python 2",
   "language": "python",
   "name": "python2"
  },
  "language_info": {
   "codemirror_mode": {
    "name": "ipython",
    "version": 2
   },
   "file_extension": ".py",
   "mimetype": "text/x-python",
   "name": "python",
   "nbconvert_exporter": "python",
   "pygments_lexer": "ipython2",
   "version": "2.7.12"
  }
 },
 "nbformat": 4,
 "nbformat_minor": 0
}
